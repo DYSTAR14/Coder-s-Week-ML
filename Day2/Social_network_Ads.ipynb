{
 "cells": [
  {
   "cell_type": "code",
   "execution_count": 1,
   "metadata": {},
   "outputs": [
    {
     "name": "stdout",
     "output_type": "stream",
     "text": [
      "      User ID Gender  Age  EstimatedSalary  Purchased\n",
      "0    15624510      M   19            19000          0\n",
      "1    15810944      M   35            20000          0\n",
      "2    15668575      F   26            43000          0\n",
      "3    15603246      F   27            57000          0\n",
      "4    15804002      M   19            76000          0\n",
      "..        ...    ...  ...              ...        ...\n",
      "395  15691863      F   46            41000          1\n",
      "396  15706071      M   51            23000          1\n",
      "397  15654296      F   50            20000          1\n",
      "398  15755018      M   36            33000          0\n",
      "399  15594041      F   49            36000          1\n",
      "\n",
      "[400 rows x 5 columns]\n",
      "      User ID Gender  Age  EstimatedSalary  Purchased\n",
      "0    15624510      1   19            19000          0\n",
      "1    15810944      1   35            20000          0\n",
      "2    15668575      0   26            43000          0\n",
      "3    15603246      0   27            57000          0\n",
      "4    15804002      1   19            76000          0\n",
      "..        ...    ...  ...              ...        ...\n",
      "395  15691863      0   46            41000          1\n",
      "396  15706071      1   51            23000          1\n",
      "397  15654296      0   50            20000          1\n",
      "398  15755018      1   36            33000          0\n",
      "399  15594041      0   49            36000          1\n",
      "\n",
      "[400 rows x 5 columns]\n"
     ]
    },
    {
     "name": "stderr",
     "output_type": "stream",
     "text": [
      "C:\\Users\\ydeep\\AppData\\Roaming\\Python\\Python37\\site-packages\\ipykernel_launcher.py:10: SettingWithCopyWarning: \n",
      "A value is trying to be set on a copy of a slice from a DataFrame\n",
      "\n",
      "See the caveats in the documentation: http://pandas.pydata.org/pandas-docs/stable/user_guide/indexing.html#returning-a-view-versus-a-copy\n",
      "  # Remove the CWD from sys.path while we load stuff.\n",
      "C:\\Users\\ydeep\\AppData\\Roaming\\Python\\Python37\\site-packages\\ipykernel_launcher.py:11: SettingWithCopyWarning: \n",
      "A value is trying to be set on a copy of a slice from a DataFrame\n",
      "\n",
      "See the caveats in the documentation: http://pandas.pydata.org/pandas-docs/stable/user_guide/indexing.html#returning-a-view-versus-a-copy\n",
      "  # This is added back by InteractiveShellApp.init_path()\n"
     ]
    }
   ],
   "source": [
    "from sklearn import datasets\n",
    "from sklearn.model_selection import train_test_split\n",
    "from sklearn.tree import DecisionTreeClassifier\n",
    "from sklearn.metrics import accuracy_score\n",
    "import numpy as np\n",
    "import matplotlib.pyplot as plt\n",
    "import pandas as pd\n",
    "dataset=pd.read_csv('Social_Network_Ads.csv')\n",
    "print(dataset)\n",
    "dataset.Gender[dataset.Gender == 'M'] = 1\n",
    "dataset.Gender[dataset.Gender == 'F'] = 0\n",
    "print(dataset)"
   ]
  },
  {
   "cell_type": "code",
   "execution_count": 2,
   "metadata": {},
   "outputs": [],
   "source": [
    "X = dataset.iloc[:,:4].values\n",
    "Y = dataset.iloc[:,4].values"
   ]
  },
  {
   "cell_type": "code",
   "execution_count": 3,
   "metadata": {},
   "outputs": [],
   "source": [
    "x_train,x_test,y_train,y_test = train_test_split(X,Y,test_size = 0.2,random_state = 0)"
   ]
  },
  {
   "cell_type": "code",
   "execution_count": 4,
   "metadata": {},
   "outputs": [
    {
     "name": "stdout",
     "output_type": "stream",
     "text": [
      "0.675\n"
     ]
    }
   ],
   "source": [
    "from sklearn.neighbors import KNeighborsClassifier\n",
    "model= KNeighborsClassifier()\n",
    "model.fit(x_train,y_train)\n",
    "prediction=model.predict(x_test)\n",
    "\n",
    "from sklearn.metrics import accuracy_score\n",
    "\n",
    "print (accuracy_score(y_test,prediction))"
   ]
  },
  {
   "cell_type": "code",
   "execution_count": 5,
   "metadata": {},
   "outputs": [
    {
     "name": "stdout",
     "output_type": "stream",
     "text": [
      "0.8875\n"
     ]
    }
   ],
   "source": [
    "from sklearn.tree import DecisionTreeRegressor\n",
    "# Define model. Specify a number for random_state to ensure same results each run\n",
    "model = DecisionTreeRegressor()\n",
    "# Fit model Decision\n",
    "model.fit(x_train,y_train)\n",
    "prediction=model.predict(x_test)\n",
    "from sklearn.metrics import accuracy_score\n",
    "print (accuracy_score(y_test,prediction))"
   ]
  },
  {
   "cell_type": "code",
   "execution_count": 6,
   "metadata": {},
   "outputs": [
    {
     "data": {
      "text/plain": [
       "0.9"
      ]
     },
     "execution_count": 6,
     "metadata": {},
     "output_type": "execute_result"
    }
   ],
   "source": [
    "#define model\n",
    "model=DecisionTreeClassifier()\n",
    "#fit model\n",
    "model.fit(x_train,y_train)\n",
    "#predict model\n",
    "prediction=model.predict(x_test)\n",
    "#find accuracy\n",
    "acc=accuracy_score(y_test,prediction)\n",
    "acc\n"
   ]
  },
  {
   "cell_type": "code",
   "execution_count": 8,
   "metadata": {},
   "outputs": [
    {
     "name": "stdout",
     "output_type": "stream",
     "text": [
      "0.8125\n"
     ]
    }
   ],
   "source": [
    "#from sklearn.model_selection import train_test_split\n",
    "#x_train, x_test, y_train, y_test = train_test_split(x, y, test_size=0.2, random_state=1)\n",
    "import sklearn.svm\n",
    "from sklearn import svm\n",
    "\n",
    "model = svm.SVC(kernel='linear') #convert non seperable problem to seperable\n",
    "model.fit(x_train,y_train)\n",
    "y_predict = model.predict(x_test)\n",
    "from sklearn.metrics import accuracy_score\n",
    "print (accuracy_score(y_test,y_predict))"
   ]
  }
 ],
 "metadata": {
  "kernelspec": {
   "display_name": "Python 3",
   "language": "python",
   "name": "python3"
  },
  "language_info": {
   "codemirror_mode": {
    "name": "ipython",
    "version": 3
   },
   "file_extension": ".py",
   "mimetype": "text/x-python",
   "name": "python",
   "nbconvert_exporter": "python",
   "pygments_lexer": "ipython3",
   "version": "3.7.4"
  }
 },
 "nbformat": 4,
 "nbformat_minor": 2
}
